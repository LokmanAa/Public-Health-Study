{
 "cells": [
  {
   "cell_type": "markdown",
   "id": "41c33c50",
   "metadata": {},
   "source": [
    "## Projet 4\n",
    "***\n",
    "### Réaliser une étude de santé publique avec Python\n",
    "\n",
    "\n",
    "\n",
    "\n",
    "\n",
    "*Nous nous donnons pour mission de faire un état des lieu de la malnutrition dans le monde pour l'année 2017 en répondant aux interrogations suivantes*\n",
    "\n",
    "   - Quelle est la proportion de personnes en état de sous-nutrition ?\n",
    "   - Quel est le nombre théorique de personnes qui pourraient être nourries ? \n",
    "   - Comment est utilisée la disponibilité alimentaire intérieure dans chaque pays ?\n",
    "   - Quels sont les pays qui souffrent le plus de sous nutrition ?\n",
    "   - Quels pays bénéficient le plus de l'aide internationale ? \n",
    "   - Quelle est la place des céréales dans l'alimentation ?\n",
    "   - Quel est la place de l'exportation par rapport à la production ?\n",
    "\n",
    "*À cette fin, nous utilisons les données provenant du site de la FAO (Food and Agriculture Organization) que nous allons exploiter comme suit :*\n",
    "\n",
    "\n",
    "\n",
    "\n",
    "\n",
    "### Sommaire :\n",
    "***\n",
    "\n",
    "### <a href=\"#C1\"><font color='Black'>Partie 1 : Préparation des données</font></a>\n",
    "   - <a href=\"#C2\">Importation des librairies</a>\n",
    "   - <a href=\"#C3\">Importation des données</a>\n",
    "   - <a href=\"#C4\">Traitement des données</a>\n",
    "        - <a href=\"#C5\">1) Population</a>\n",
    "        - <a href=\"#C6\">2) Sous nutrition</a>\n",
    "        - <a href=\"#C7\">3) Aide alimentaire</a>\n",
    "        - <a href=\"#C8\">4) Disponibilité alimentaire</a>\n",
    "***\n",
    "\n",
    "\n",
    "### <a href=\"#C9\"><font color='Black'>Partie 2 : Analyse des données</font></a>\n",
    "\n",
    "   - <a href=\"#C10\">1) Proportion de personnes en état de sous-nutrition</a>\n",
    "   - <a href=\"#C11\">2) Nombre théorique de personnes qui pourraient être nourries</a> \n",
    "   - <a href=\"#C12\">3) Nombre théorique de personnes qui pourraient être nourries exclusivement avec des produits végétaux</a> \n",
    "   - <a href=\"#C13\">4) Utilisation de la disponibilité alimentaire intérieure</a>\n",
    "   - <a href=\"#C14\">5) Pays pour lesquels la proportion de personnes sous-nutrition est la plus forte</a>\n",
    "   - <a href=\"#C15\">6) Pays qui ont le plus bénéficié d’aide depuis 2013</a>\n",
    "   - <a href=\"#C16\">7) Disponibilité par habitant dans chaque pays</a>\n",
    "   - <a href=\"#C17\">8) Céréales dans l'alimentation</a> \n",
    "   - <a href=\"#C18\">9) Exemple du manioc en Thaïlande</a>"
   ]
  },
  {
   "cell_type": "markdown",
   "id": "fd019657",
   "metadata": {},
   "source": [
    "## **<a name=\"C1\"><font color='Black'>Partie 1 : Préparation des données</font></a>**\n",
    "***\n",
    "### <a name=\"C2\"><font color='Black'>Importation des librairies :</font></a>\n",
    "***\n",
    "Les librairies que nous utiliserons sont les suivantes :\n",
    "   - Numpy pour les tableaux et les opérations  \n",
    "   - Pandas pour la manipulation des données\n",
    "   - Matplotlib pour tracer des representations graphiques\n",
    "   - Seaborn pour améliorer les graphiques"
   ]
  },
  {
   "cell_type": "code",
   "execution_count": 4,
   "id": "d2cc59fb",
   "metadata": {},
   "outputs": [],
   "source": [
    "import numpy as np\n",
    "import pandas as pd\n",
    "import matplotlib.pyplot as plt\n",
    "import seaborn as sns"
   ]
  },
  {
   "cell_type": "markdown",
   "id": "fd9b9b51",
   "metadata": {},
   "source": [
    "### <a name=\"C3\"><font color='Black'>Importation des données</font></a>\n",
    "***\n",
    "Les fichiers de données à notre disposition sont les suivants :\n",
    "   - **population.csv** : population par pays \n",
    "   - **sous_nutrition.csv** : Nombre de personne en sous-alimentation par pays\n",
    "   - **aide_alimentaire.csv** : quantité d'aide alimentaire par pays\n",
    "   - **dispo_alimentaire.csv** : disponibilité de diverses denrées alimentaires par pays"
   ]
  },
  {
   "cell_type": "code",
   "execution_count": 5,
   "id": "7fc340ad",
   "metadata": {},
   "outputs": [
    {
     "ename": "FileNotFoundError",
     "evalue": "[Errno 2] No such file or directory: 'population.csv'",
     "output_type": "error",
     "traceback": [
      "\u001b[1;31m---------------------------------------------------------------------------\u001b[0m",
      "\u001b[1;31mFileNotFoundError\u001b[0m                         Traceback (most recent call last)",
      "\u001b[1;32m~\\AppData\\Local\\Temp\\ipykernel_1956\\3367073495.py\u001b[0m in \u001b[0;36m<module>\u001b[1;34m\u001b[0m\n\u001b[1;32m----> 1\u001b[1;33m \u001b[0mpopulation\u001b[0m \u001b[1;33m=\u001b[0m \u001b[0mpd\u001b[0m\u001b[1;33m.\u001b[0m\u001b[0mread_csv\u001b[0m\u001b[1;33m(\u001b[0m\u001b[1;34m'population.csv'\u001b[0m\u001b[1;33m)\u001b[0m\u001b[1;33m\u001b[0m\u001b[1;33m\u001b[0m\u001b[0m\n\u001b[0m\u001b[0;32m      2\u001b[0m \u001b[0mdispo_alimentaire\u001b[0m \u001b[1;33m=\u001b[0m \u001b[0mpd\u001b[0m\u001b[1;33m.\u001b[0m\u001b[0mread_csv\u001b[0m\u001b[1;33m(\u001b[0m\u001b[1;34m'dispo_alimentaire.csv'\u001b[0m\u001b[1;33m)\u001b[0m\u001b[1;33m\u001b[0m\u001b[1;33m\u001b[0m\u001b[0m\n\u001b[0;32m      3\u001b[0m \u001b[0msous_nutrition\u001b[0m \u001b[1;33m=\u001b[0m \u001b[0mpd\u001b[0m\u001b[1;33m.\u001b[0m\u001b[0mread_csv\u001b[0m\u001b[1;33m(\u001b[0m\u001b[1;34m'sous_nutrition.csv'\u001b[0m\u001b[1;33m)\u001b[0m\u001b[1;33m\u001b[0m\u001b[1;33m\u001b[0m\u001b[0m\n\u001b[0;32m      4\u001b[0m \u001b[0maide_alimentaire\u001b[0m \u001b[1;33m=\u001b[0m \u001b[0mpd\u001b[0m\u001b[1;33m.\u001b[0m\u001b[0mread_csv\u001b[0m\u001b[1;33m(\u001b[0m\u001b[1;34m'aide_alimentaire.csv'\u001b[0m\u001b[1;33m)\u001b[0m\u001b[1;33m\u001b[0m\u001b[1;33m\u001b[0m\u001b[0m\n",
      "\u001b[1;32m~\\anaconda3\\lib\\site-packages\\pandas\\util\\_decorators.py\u001b[0m in \u001b[0;36mwrapper\u001b[1;34m(*args, **kwargs)\u001b[0m\n\u001b[0;32m    309\u001b[0m                     \u001b[0mstacklevel\u001b[0m\u001b[1;33m=\u001b[0m\u001b[0mstacklevel\u001b[0m\u001b[1;33m,\u001b[0m\u001b[1;33m\u001b[0m\u001b[1;33m\u001b[0m\u001b[0m\n\u001b[0;32m    310\u001b[0m                 )\n\u001b[1;32m--> 311\u001b[1;33m             \u001b[1;32mreturn\u001b[0m \u001b[0mfunc\u001b[0m\u001b[1;33m(\u001b[0m\u001b[1;33m*\u001b[0m\u001b[0margs\u001b[0m\u001b[1;33m,\u001b[0m \u001b[1;33m**\u001b[0m\u001b[0mkwargs\u001b[0m\u001b[1;33m)\u001b[0m\u001b[1;33m\u001b[0m\u001b[1;33m\u001b[0m\u001b[0m\n\u001b[0m\u001b[0;32m    312\u001b[0m \u001b[1;33m\u001b[0m\u001b[0m\n\u001b[0;32m    313\u001b[0m         \u001b[1;32mreturn\u001b[0m \u001b[0mwrapper\u001b[0m\u001b[1;33m\u001b[0m\u001b[1;33m\u001b[0m\u001b[0m\n",
      "\u001b[1;32m~\\anaconda3\\lib\\site-packages\\pandas\\io\\parsers\\readers.py\u001b[0m in \u001b[0;36mread_csv\u001b[1;34m(filepath_or_buffer, sep, delimiter, header, names, index_col, usecols, squeeze, prefix, mangle_dupe_cols, dtype, engine, converters, true_values, false_values, skipinitialspace, skiprows, skipfooter, nrows, na_values, keep_default_na, na_filter, verbose, skip_blank_lines, parse_dates, infer_datetime_format, keep_date_col, date_parser, dayfirst, cache_dates, iterator, chunksize, compression, thousands, decimal, lineterminator, quotechar, quoting, doublequote, escapechar, comment, encoding, encoding_errors, dialect, error_bad_lines, warn_bad_lines, on_bad_lines, delim_whitespace, low_memory, memory_map, float_precision, storage_options)\u001b[0m\n\u001b[0;32m    676\u001b[0m     \u001b[0mkwds\u001b[0m\u001b[1;33m.\u001b[0m\u001b[0mupdate\u001b[0m\u001b[1;33m(\u001b[0m\u001b[0mkwds_defaults\u001b[0m\u001b[1;33m)\u001b[0m\u001b[1;33m\u001b[0m\u001b[1;33m\u001b[0m\u001b[0m\n\u001b[0;32m    677\u001b[0m \u001b[1;33m\u001b[0m\u001b[0m\n\u001b[1;32m--> 678\u001b[1;33m     \u001b[1;32mreturn\u001b[0m \u001b[0m_read\u001b[0m\u001b[1;33m(\u001b[0m\u001b[0mfilepath_or_buffer\u001b[0m\u001b[1;33m,\u001b[0m \u001b[0mkwds\u001b[0m\u001b[1;33m)\u001b[0m\u001b[1;33m\u001b[0m\u001b[1;33m\u001b[0m\u001b[0m\n\u001b[0m\u001b[0;32m    679\u001b[0m \u001b[1;33m\u001b[0m\u001b[0m\n\u001b[0;32m    680\u001b[0m \u001b[1;33m\u001b[0m\u001b[0m\n",
      "\u001b[1;32m~\\anaconda3\\lib\\site-packages\\pandas\\io\\parsers\\readers.py\u001b[0m in \u001b[0;36m_read\u001b[1;34m(filepath_or_buffer, kwds)\u001b[0m\n\u001b[0;32m    573\u001b[0m \u001b[1;33m\u001b[0m\u001b[0m\n\u001b[0;32m    574\u001b[0m     \u001b[1;31m# Create the parser.\u001b[0m\u001b[1;33m\u001b[0m\u001b[1;33m\u001b[0m\u001b[0m\n\u001b[1;32m--> 575\u001b[1;33m     \u001b[0mparser\u001b[0m \u001b[1;33m=\u001b[0m \u001b[0mTextFileReader\u001b[0m\u001b[1;33m(\u001b[0m\u001b[0mfilepath_or_buffer\u001b[0m\u001b[1;33m,\u001b[0m \u001b[1;33m**\u001b[0m\u001b[0mkwds\u001b[0m\u001b[1;33m)\u001b[0m\u001b[1;33m\u001b[0m\u001b[1;33m\u001b[0m\u001b[0m\n\u001b[0m\u001b[0;32m    576\u001b[0m \u001b[1;33m\u001b[0m\u001b[0m\n\u001b[0;32m    577\u001b[0m     \u001b[1;32mif\u001b[0m \u001b[0mchunksize\u001b[0m \u001b[1;32mor\u001b[0m \u001b[0miterator\u001b[0m\u001b[1;33m:\u001b[0m\u001b[1;33m\u001b[0m\u001b[1;33m\u001b[0m\u001b[0m\n",
      "\u001b[1;32m~\\anaconda3\\lib\\site-packages\\pandas\\io\\parsers\\readers.py\u001b[0m in \u001b[0;36m__init__\u001b[1;34m(self, f, engine, **kwds)\u001b[0m\n\u001b[0;32m    930\u001b[0m \u001b[1;33m\u001b[0m\u001b[0m\n\u001b[0;32m    931\u001b[0m         \u001b[0mself\u001b[0m\u001b[1;33m.\u001b[0m\u001b[0mhandles\u001b[0m\u001b[1;33m:\u001b[0m \u001b[0mIOHandles\u001b[0m \u001b[1;33m|\u001b[0m \u001b[1;32mNone\u001b[0m \u001b[1;33m=\u001b[0m \u001b[1;32mNone\u001b[0m\u001b[1;33m\u001b[0m\u001b[1;33m\u001b[0m\u001b[0m\n\u001b[1;32m--> 932\u001b[1;33m         \u001b[0mself\u001b[0m\u001b[1;33m.\u001b[0m\u001b[0m_engine\u001b[0m \u001b[1;33m=\u001b[0m \u001b[0mself\u001b[0m\u001b[1;33m.\u001b[0m\u001b[0m_make_engine\u001b[0m\u001b[1;33m(\u001b[0m\u001b[0mf\u001b[0m\u001b[1;33m,\u001b[0m \u001b[0mself\u001b[0m\u001b[1;33m.\u001b[0m\u001b[0mengine\u001b[0m\u001b[1;33m)\u001b[0m\u001b[1;33m\u001b[0m\u001b[1;33m\u001b[0m\u001b[0m\n\u001b[0m\u001b[0;32m    933\u001b[0m \u001b[1;33m\u001b[0m\u001b[0m\n\u001b[0;32m    934\u001b[0m     \u001b[1;32mdef\u001b[0m \u001b[0mclose\u001b[0m\u001b[1;33m(\u001b[0m\u001b[0mself\u001b[0m\u001b[1;33m)\u001b[0m\u001b[1;33m:\u001b[0m\u001b[1;33m\u001b[0m\u001b[1;33m\u001b[0m\u001b[0m\n",
      "\u001b[1;32m~\\anaconda3\\lib\\site-packages\\pandas\\io\\parsers\\readers.py\u001b[0m in \u001b[0;36m_make_engine\u001b[1;34m(self, f, engine)\u001b[0m\n\u001b[0;32m   1214\u001b[0m             \u001b[1;31m# \"Union[str, PathLike[str], ReadCsvBuffer[bytes], ReadCsvBuffer[str]]\"\u001b[0m\u001b[1;33m\u001b[0m\u001b[1;33m\u001b[0m\u001b[0m\n\u001b[0;32m   1215\u001b[0m             \u001b[1;31m# , \"str\", \"bool\", \"Any\", \"Any\", \"Any\", \"Any\", \"Any\"\u001b[0m\u001b[1;33m\u001b[0m\u001b[1;33m\u001b[0m\u001b[0m\n\u001b[1;32m-> 1216\u001b[1;33m             self.handles = get_handle(  # type: ignore[call-overload]\n\u001b[0m\u001b[0;32m   1217\u001b[0m                 \u001b[0mf\u001b[0m\u001b[1;33m,\u001b[0m\u001b[1;33m\u001b[0m\u001b[1;33m\u001b[0m\u001b[0m\n\u001b[0;32m   1218\u001b[0m                 \u001b[0mmode\u001b[0m\u001b[1;33m,\u001b[0m\u001b[1;33m\u001b[0m\u001b[1;33m\u001b[0m\u001b[0m\n",
      "\u001b[1;32m~\\anaconda3\\lib\\site-packages\\pandas\\io\\common.py\u001b[0m in \u001b[0;36mget_handle\u001b[1;34m(path_or_buf, mode, encoding, compression, memory_map, is_text, errors, storage_options)\u001b[0m\n\u001b[0;32m    784\u001b[0m         \u001b[1;32mif\u001b[0m \u001b[0mioargs\u001b[0m\u001b[1;33m.\u001b[0m\u001b[0mencoding\u001b[0m \u001b[1;32mand\u001b[0m \u001b[1;34m\"b\"\u001b[0m \u001b[1;32mnot\u001b[0m \u001b[1;32min\u001b[0m \u001b[0mioargs\u001b[0m\u001b[1;33m.\u001b[0m\u001b[0mmode\u001b[0m\u001b[1;33m:\u001b[0m\u001b[1;33m\u001b[0m\u001b[1;33m\u001b[0m\u001b[0m\n\u001b[0;32m    785\u001b[0m             \u001b[1;31m# Encoding\u001b[0m\u001b[1;33m\u001b[0m\u001b[1;33m\u001b[0m\u001b[0m\n\u001b[1;32m--> 786\u001b[1;33m             handle = open(\n\u001b[0m\u001b[0;32m    787\u001b[0m                 \u001b[0mhandle\u001b[0m\u001b[1;33m,\u001b[0m\u001b[1;33m\u001b[0m\u001b[1;33m\u001b[0m\u001b[0m\n\u001b[0;32m    788\u001b[0m                 \u001b[0mioargs\u001b[0m\u001b[1;33m.\u001b[0m\u001b[0mmode\u001b[0m\u001b[1;33m,\u001b[0m\u001b[1;33m\u001b[0m\u001b[1;33m\u001b[0m\u001b[0m\n",
      "\u001b[1;31mFileNotFoundError\u001b[0m: [Errno 2] No such file or directory: 'population.csv'"
     ]
    }
   ],
   "source": [
    "population = pd.read_csv('population.csv')\n",
    "dispo_alimentaire = pd.read_csv('dispo_alimentaire.csv')\n",
    "sous_nutrition = pd.read_csv('sous_nutrition.csv')\n",
    "aide_alimentaire = pd.read_csv('aide_alimentaire.csv')"
   ]
  },
  {
   "cell_type": "markdown",
   "id": "e454d554",
   "metadata": {},
   "source": [
    "### <a name=\"C4\"><font color='Black'>Traitement des données</font></a>\n",
    "***\n",
    "Avant de préparer nos données, nous devons obtenir une description exacte de ces dernières :\n",
    "   - le nombre de lignes et de colonnes de chaque jeu de données\n",
    "   - un dénombrage des valeurs totales et uniques\n",
    "   - le type de chaque colonne\n",
    "   - un dénombrage des valeurs nulles\n",
    "   - un dénombrage des valeurs aberrantes\n",
    "\n",
    "Pour cela, nous créons une fonction qui retourne un tableau comprenant toutes les informations dont nous avons besoin :"
   ]
  },
  {
   "cell_type": "code",
   "execution_count": null,
   "id": "b0eed578",
   "metadata": {},
   "outputs": [],
   "source": [
    "def info_donnee(df: pd.DataFrame):\n",
    "    desc = df.columns.to_frame(name=\"colonne\").set_index('colonne')\n",
    "    desc['nombre de valeurs non nulles'] = df.notnull().sum() \n",
    "    desc['nombre de valeurs uniques'] = df.nunique() \n",
    "    desc['type de donnée'] = df.dtypes \n",
    "    desc['nombre de valeurs nulles']=df.isna().sum()\n",
    "    desc['pourcentage de valeurs nulles']=round((df.isna().sum()/df.shape[0]*100),2)\n",
    "    return desc"
   ]
  },
  {
   "cell_type": "markdown",
   "id": "5c2ae572",
   "metadata": {},
   "source": [
    "### <a name=\"C5\"><font color='Black'>1) Population</font></a>\n",
    "***\n",
    "#### Description\n",
    "Le fichier population inclut :\n",
    "   - Le pays\n",
    "   - L’année\n",
    "   - La population du pays, exprimée en milliers d’habitants\n",
    "\n",
    "Nous utilisons la fonction créée plus haut afin d'examiner le jeu de données :"
   ]
  },
  {
   "cell_type": "code",
   "execution_count": null,
   "id": "3e4b974d",
   "metadata": {},
   "outputs": [],
   "source": [
    "info_donnee(population).reset_index()"
   ]
  },
  {
   "cell_type": "markdown",
   "id": "4f9fb108",
   "metadata": {},
   "source": [
    "Nous constatons qu'il n'y a pas de valeurs manquantes, 1416 valeurs pour chaque colonne.\n",
    "\n",
    "#### Modification\n",
    "\n",
    "Voici les modifications que nous allons apporter sur ce dataset :\n",
    "   - renommage des variables\n",
    "   - conversion de la population en unité réélle\n",
    "   - conversion de la colonne habitants en entier\n"
   ]
  },
  {
   "cell_type": "code",
   "execution_count": null,
   "id": "13d0cc67",
   "metadata": {},
   "outputs": [],
   "source": [
    "population = population.rename(columns={\n",
    "    'Zone'  : 'pays', \n",
    "    'Année' : 'annee', \n",
    "    'Valeur': 'nombre_habitants'})\n",
    "\n",
    "population['nombre_habitants'] = population['nombre_habitants'] * 1000\n",
    "\n",
    "population['nombre_habitants'] = population['nombre_habitants'].astype(int)\n",
    "\n",
    "population.head()"
   ]
  },
  {
   "cell_type": "code",
   "execution_count": null,
   "id": "b24b5579",
   "metadata": {},
   "outputs": [],
   "source": [
    "info_donnee(population).reset_index()"
   ]
  },
  {
   "cell_type": "markdown",
   "id": "eaec58f1",
   "metadata": {},
   "source": [
    "### <a name=\"C6\"><font color='Black'>2) Sous nutrition</font></a>\n",
    "***\n",
    "#### Description\n",
    "Le fichier d’insécurité alimentaire inclut :\n",
    "   - Le pays\n",
    "   - Intervalle d’années\n",
    "   - Le nombre de personnes en sous-alimentation en millions d’habitants \n",
    "\n",
    "Nous utilisons la fonction créée plus haut afin d'examiner le jeu de données :"
   ]
  },
  {
   "cell_type": "code",
   "execution_count": null,
   "id": "e01511a0",
   "metadata": {},
   "outputs": [],
   "source": [
    "info_donnee(sous_nutrition).reset_index()"
   ]
  },
  {
   "cell_type": "markdown",
   "id": "ea536f3f",
   "metadata": {},
   "source": [
    "Nous constatons qu'il y a des valeurs manquantes dans la colonne \"valeur\"\n",
    "\n",
    "#### Modification\n",
    "\n",
    "Voici les modifications que nous allons apporter sur ce dataset :\n",
    "   - renommage des variables\n",
    "   - transformation des valeurs nulles en \"0\"\n",
    "   - suppression des caractères spéciaux \"<\"\n",
    "   - simplifier les dates pour avoir la moyenne plutot qu'un interval\n",
    "   - conversion de la colonne \"valeur\" en int\n",
    "   - conversion de la population en unité réélle\n"
   ]
  },
  {
   "cell_type": "code",
   "execution_count": null,
   "id": "d2d07441",
   "metadata": {},
   "outputs": [],
   "source": [
    "sous_nutrition = sous_nutrition.rename(columns={\n",
    "    'Zone'  : 'pays', \n",
    "    'Année' : 'annee', \n",
    "    'Valeur': 'habitants_sous_nutrition'})\n",
    "\n",
    "sous_nutrition['habitants_sous_nutrition'].fillna(0, inplace=True)\n",
    "\n",
    "sous_nutrition.loc[ sous_nutrition['habitants_sous_nutrition'] == '<0.1', 'habitants_sous_nutrition' ] = 0\n",
    "\n",
    "sous_nutrition['annee'] = sous_nutrition['annee'].replace(\n",
    "    ['2012-2014','2013-2015','2014-2016','2015-2017','2016-2018','2017-2019'],\n",
    "    [   '2013',     '2014',     '2015',     '2016',     '2017',     '2018'])\n",
    "\n",
    "sous_nutrition['annee'] = sous_nutrition['annee'].astype(np.int64)\n",
    "\n",
    "sous_nutrition['habitants_sous_nutrition'] = sous_nutrition['habitants_sous_nutrition'].astype(float, errors = 'ignore')\n",
    "\n",
    "sous_nutrition['habitants_sous_nutrition'] = sous_nutrition['habitants_sous_nutrition']*1000000\n",
    "\n",
    "sous_nutrition['habitants_sous_nutrition'] = sous_nutrition['habitants_sous_nutrition'].astype(int, errors = 'ignore')\n",
    "\n",
    "\n",
    "sous_nutrition.head()"
   ]
  },
  {
   "cell_type": "code",
   "execution_count": null,
   "id": "2cf66ad7",
   "metadata": {},
   "outputs": [],
   "source": [
    "info_donnee(sous_nutrition).reset_index()"
   ]
  },
  {
   "cell_type": "markdown",
   "id": "7b58ccc5",
   "metadata": {},
   "source": [
    "### <a name=\"C7\"><font color='Black'>3) Aide alimentaire</font></a>\n",
    "***\n",
    "#### Description\n",
    "Le fichier d’aide alimentaire inclut :\n",
    "   - Le pays bénéficiaire de l'aide\n",
    "   - L’année\n",
    "   - Le produit\n",
    "   - La quantité d'aide alimentaire donnée en tonnes \n",
    "\n",
    "Nous utilisons la fonction créée plus haut afin d'examiner le jeu de données :"
   ]
  },
  {
   "cell_type": "code",
   "execution_count": null,
   "id": "97ccdb75",
   "metadata": {},
   "outputs": [],
   "source": [
    "info_donnee(aide_alimentaire).reset_index()"
   ]
  },
  {
   "cell_type": "markdown",
   "id": "0fe8060e",
   "metadata": {},
   "source": [
    "Nous constatons qu'il n'y a pas de valeurs manquantes, 1475 valeurs pour chaque colonne.\n",
    "\n",
    "#### Modification\n",
    "\n",
    "Voici les modifications que nous allons apporter sur ce dataset :\n",
    "   - renommage des variables\n",
    "   - conversion de la quantité d'aide alimentaire en kilogramme\n"
   ]
  },
  {
   "cell_type": "code",
   "execution_count": null,
   "id": "49c84660",
   "metadata": {},
   "outputs": [],
   "source": [
    "aide_alimentaire = aide_alimentaire.rename(columns={\n",
    "    'Pays bénéficiaire': 'pays', \n",
    "    'Année'            : 'annee', \n",
    "    'Produit'          : 'produit', \n",
    "    'Valeur'           : 'quantite_aide_kg'})\n",
    "\n",
    "aide_alimentaire['quantite_aide_kg'] = aide_alimentaire['quantite_aide_kg'] * 1000\n",
    "\n",
    "\n",
    "aide_alimentaire.head()"
   ]
  },
  {
   "cell_type": "markdown",
   "id": "d518ef2b",
   "metadata": {},
   "source": [
    "### <a name=\"C8\"><font color='Black'>4) Disponibilité alimentaire</font></a>\n",
    "***\n",
    "#### Description\n",
    "Le fichier de disponibilité alimentaire inclut :\n",
    "   - Le pays\n",
    "   - Le produit\n",
    "   - 4 variables de disponibilité alimentaire\n",
    "   - 10 variables qui précisent les utilisations/moyens d’acquisition de la disponibilité alimentaire en milliers de tonnes\n",
    "   - Une variable type qui précise si le produit est d’origine animale ou végétale\n",
    "\n",
    "Nous utilisons la fonction créée plus haut afin d'examiner le jeu de données :"
   ]
  },
  {
   "cell_type": "code",
   "execution_count": null,
   "id": "ad608a13",
   "metadata": {},
   "outputs": [],
   "source": [
    "info_donnee(dispo_alimentaire).reset_index()"
   ]
  },
  {
   "cell_type": "markdown",
   "id": "069b4fb1",
   "metadata": {},
   "source": [
    "Nous constatons qu'il y a de nombreues valeurs manquantes dans plusieurs colonnes, les unités utilisées sont incohérentes.\n",
    "\n",
    "#### Modification\n",
    "\n",
    "Voici les modifications que nous allons apporter sur ce dataset :\n",
    "   - renommage des variables\n",
    "   - transformation des valeurs nulles en \"0\"\n",
    "   - conversion des variables en kilogramme"
   ]
  },
  {
   "cell_type": "code",
   "execution_count": null,
   "id": "302aae73",
   "metadata": {},
   "outputs": [],
   "source": [
    "dispo_alimentaire = dispo_alimentaire.rename(columns={\n",
    "    \"Zone\"                                                         : \"pays\", \n",
    "    \"Produit\"                                                      : \"produit\", \n",
    "    \"Origine\"                                                      : \"origine_produit\", \n",
    "    \"Aliments pour animaux\"                                        : \"aliments_pour_animaux\", \n",
    "    \"Autres Utilisations\"                                          : \"autres_utilisations\", \n",
    "    \"Disponibilité alimentaire (Kcal/personne/jour)\"               : \"dispo_alim_kcal_pers_j\", \n",
    "    \"Disponibilité alimentaire en quantité (kg/personne/an)\"       : \"dispo_alim_kg_pers_an\", \n",
    "    \"Disponibilité de matière grasse en quantité (g/personne/jour)\": \"dispo_mat_grasse_gr_pers_j\", \n",
    "    \"Disponibilité de protéines en quantité (g/personne/jour)\"     : \"dispo_proteine_gr_pers_j\", \n",
    "    \"Disponibilité intérieure\"                                     : \"dispo_interieure\", \n",
    "    \"Exportations - Quantité\"                                      : \"quantite_exportation\", \n",
    "    \"Importations - Quantité\"                                      : \"quantite_importation\", \n",
    "    \"Nourriture\"                                                   : \"quantite_nourriture\", \n",
    "    \"Pertes\"                                                       : \"pertes_nourriture\", \n",
    "    \"Production\"                                                   : \"production_nourriture\", \n",
    "    \"Semences\"                                                     : \"semences\", \n",
    "    \"Traitement\"                                                   : \"traitement\", \n",
    "    \"Variation de stock\"                                           : \"variation_stock\"})\n",
    "\n",
    "dispo_alimentaire.fillna(0, inplace=True)\n",
    "\n",
    "dispo_alimentaire['dispo_alim_kg_pers_an'] = dispo_alimentaire['dispo_alim_kg_pers_an'] * 1000000\n",
    "dispo_alimentaire['dispo_interieure'] = dispo_alimentaire['dispo_interieure'] * 1000000\n",
    "dispo_alimentaire['quantite_nourriture'] = dispo_alimentaire['quantite_nourriture'] * 1000000\n",
    "dispo_alimentaire['aliments_pour_animaux'] = dispo_alimentaire['aliments_pour_animaux'] * 1000000\n",
    "dispo_alimentaire['pertes_nourriture'] = dispo_alimentaire['pertes_nourriture'] * 1000000\n",
    "dispo_alimentaire['semences'] = dispo_alimentaire['semences'] * 1000000\n",
    "dispo_alimentaire['traitement'] = dispo_alimentaire['traitement'] * 1000000\n",
    "dispo_alimentaire['autres_utilisations'] = dispo_alimentaire['autres_utilisations'] * 1000000\n",
    "\n",
    "dispo_alimentaire.head()"
   ]
  },
  {
   "cell_type": "markdown",
   "id": "2f9b80d0",
   "metadata": {},
   "source": [
    "## **<a name=\"C9\"><font color='Black'>Partie 2 : Analyse des données</font></a>**\n",
    "***\n",
    "Nos données sont desormais nettoyées et homogénéisées, nous allons procéder à l'analyse de ces dernières. Nous traiterons d'abord les demandes de Marc puis celle de Mélanie, enfin nous traiterons les demandes subsidiaires de Julien. Pour chaque demande nous décrirons la méthode avant de l'appliquer, et nous apporterons une conclusion. Nous partons du postulat que toutes les données doivent êtres analysées pour l'année 2017 uniquement sauf quand une date est précisée.\n",
    "\n",
    "### <a name=\"C10\"><font color='Black'>1) Proportion de personnes en état de sous-nutrition</font></a>\n",
    "***\n",
    "#### Démarche\n",
    "   - extraction de la population de 2017\n",
    "   - somme de la population de chaque pays\n",
    "   - extraction de la population en sous nutrition\n",
    "   - somme de la population en sous nutrition\n",
    "   - rapport entre les 2 données pour obtenir une proportion"
   ]
  },
  {
   "cell_type": "code",
   "execution_count": null,
   "id": "73bc06d9",
   "metadata": {},
   "outputs": [],
   "source": [
    "population_2017 = population[(population[\"annee\"] == 2017)]\n",
    "\n",
    "population_totale_2017 = population_2017['nombre_habitants'].sum()\n",
    "\n",
    "print(\"La population mondiale est de \",population_totale_2017,\" individus.\")\n",
    "\n",
    "sous_nutrition_2017 = sous_nutrition.loc[sous_nutrition['annee'] == 2017]\n",
    "\n",
    "sous_nutrition_mondiale_2017 = sous_nutrition_2017['habitants_sous_nutrition'].sum()\n",
    "\n",
    "print(\"La population en sous nutrition est de \",sous_nutrition_mondiale_2017,\" individus\")\n",
    "\n",
    "proportion_sous_nutrition_2017 = (sous_nutrition_mondiale_2017 / population_totale_2017) * 100\n",
    "\n",
    "print( proportion_sous_nutrition_2017, \"% de la population était en sous nutrition\")\n"
   ]
  },
  {
   "cell_type": "markdown",
   "id": "3eee915b",
   "metadata": {},
   "source": [
    "#### Conclusion\n",
    "D'après les données de la FAO, 7.1 % de la population mondiale était en état de sous nutrition en 2017.\n",
    "\n",
    "###  <a name=\"C11\"><font color='Black'>2) Nombre théorique de personnes qui pourraient être nourries</font></a>  \n",
    "***\n",
    "Postulat : D'après l'Organisation mondiale de la Santé, un homme doit consommer environ 2 500 kilocalories (kcal) par jour, contre 2 000 kcal/jour pour une femme. La Terre étant peuplée de femmes et d'hommes à quasiment 50/50, nous considérons une moyenne de besoin de 2250 kcal/jour par individu.\n",
    "#### Démarche\n",
    "   - fusion des dataframes dispo_alimentaire et population_2017 sur la clé \"pays\"\n",
    "   - calcul de la disponibilité en kcal (dispo par pers * nb d'habitants)\n",
    "   - déclaration de la variable besoin_kcal_pers_j \n",
    "   - division de la dispo alimentaire totale en kcal par le besoin journalier par individu\n",
    "   - calcul de la  proportion en %"
   ]
  },
  {
   "cell_type": "code",
   "execution_count": null,
   "id": "d6819146",
   "metadata": {},
   "outputs": [],
   "source": [
    "dispo_alimentaire_2017 = pd.merge(dispo_alimentaire, population_2017, on = 'pays')\n",
    "\n",
    "dispo_alim_kcal_2017 = dispo_alimentaire_2017['dispo_alim_kcal_pers_j'] * dispo_alimentaire_2017['nombre_habitants']\n",
    "\n",
    "besoin_kcal_pers_j = 2250\n",
    "\n",
    "nb_personne_pouvant_etre_nourries = dispo_alim_kcal_2017.sum() / besoin_kcal_pers_j\n",
    "\n",
    "pourcentage_pouvant_etre_nourries = (nb_personne_pouvant_etre_nourries * 100) / population_2017['nombre_habitants'].sum() \n",
    "\n",
    "print( 'Le nombre de personnes pouvant etre nourries est', nb_personne_pouvant_etre_nourries,' soit ', pourcentage_pouvant_etre_nourries, '% de la population totale')\n",
    "\n"
   ]
  },
  {
   "cell_type": "markdown",
   "id": "134ff850",
   "metadata": {},
   "source": [
    "#### Conclusion\n",
    "D'après les données de la FAO, nous estimons qu'environ 9,2 Milliard de personnes auraient pu être nourries avec les disponibilités alimentaires de l'année 2017, ce qui représente 123% de la population.  \n",
    "\n",
    "###  <a name=\"C12\"><font color='Black'>3) Nombre théorique de personnes qui pourraient être nourries exclusivement avec des produits végétaux</font></a>\n",
    "***\n",
    "#### Démarche\n",
    "\n",
    "   - extraction de la disponibilité alimentaire végétale en séléctionnant l'origine du produit = vegetale\n",
    "   - calcul de la disponibilité en kcal (dispo par pers * nb d'habitants)\n",
    "   - division de la dispo alimentaire végétale totale en kcal par le besoin journalier par individu\n",
    "   - calcul de la proportion en %"
   ]
  },
  {
   "cell_type": "code",
   "execution_count": null,
   "id": "350d7b61",
   "metadata": {},
   "outputs": [],
   "source": [
    "dispo_alimentaire_vegetale = dispo_alimentaire_2017[dispo_alimentaire_2017['origine_produit'] == \"vegetale\"]\n",
    "\n",
    "dispo_alimentaire_vegetale = dispo_alimentaire_vegetale['dispo_alim_kcal_pers_j'] * dispo_alimentaire_2017['nombre_habitants']\n",
    "\n",
    "nb_personne_pouvant_etre_nourries_vegetaux = dispo_alimentaire_vegetale.sum() / besoin_kcal_pers_j\n",
    "\n",
    "pourcentage_personne_pouvant_etre_nourries_vegetaux = (nb_personne_pouvant_etre_nourries_vegetaux * 100) / population_2017['nombre_habitants'].sum() \n",
    "\n",
    "print( 'Le nombre de personnes pouvant etre nourries est', nb_personne_pouvant_etre_nourries_vegetaux, ' soit ', pourcentage_personne_pouvant_etre_nourries_vegetaux, '% de la population totale')\n"
   ]
  },
  {
   "cell_type": "markdown",
   "id": "fdffb1d2",
   "metadata": {},
   "source": [
    "#### Conclusion\n",
    "En réalisant la même démarche que précedemment, nous estimons qu'environ 7,6 Milliard de personnes auraient pu être nourries avec les disponibilités alimentaires végétales de l'année 2017, ce qui représente 101% de la population. La population aurait donc pu être nourrie exclusivement avec des végétaux.\n",
    "\n",
    "### <a name=\"C13\"><font color='Black'>4) Utilisation de la disponibilité alimentaire intérieure</font></a>\n",
    "\n",
    "***\n",
    "Postulat : la disponibilité intérieure correspond à la disponibilité totale d’un aliment au sein du pays. dans notre dataset, elle se retrouve des 2 façons suivantes : \n",
    "   - dispo_interieure = production_nourriture + quantite_importation - quantite_exportation - variation_stock\n",
    "   - dispo_interieure = aliments_pour_animaux + autres_utilisations + quantite_nourriture + pertes_nourriture + semences + traitement\n",
    "   \n",
    "#### Démarche\n",
    "\n",
    "   - sélection de chaque type d'utilisation de la disponibilité intérieure en regroupant d'abord par pays\n",
    "   - somme de la disponibilité de tous les pays en conservant chaque type d'utilisation\n",
    "   - visualisation via un diagramme circulaire des types d'utilisation\n",
    "   "
   ]
  },
  {
   "cell_type": "code",
   "execution_count": null,
   "id": "0d92a921",
   "metadata": {},
   "outputs": [],
   "source": [
    "disponibilite_interieure = dispo_alimentaire_2017.loc[:, ['pays','aliments_pour_animaux', 'autres_utilisations','quantite_nourriture', 'pertes_nourriture','semences', 'traitement']].groupby('pays').sum()\n",
    "\n",
    "disponibilite_interieure = disponibilite_interieure.sum()\n",
    " \n",
    "disponibilite_interieure.plot.pie(figsize=(10, 8),autopct='%1.1f%%', startangle=18)\n",
    "plt.title('Utilisation de la disponibilité alimentaire interieure mondiale')\n",
    "plt.ylabel(\"\")\n",
    "plt.show()"
   ]
  },
  {
   "cell_type": "markdown",
   "id": "ebd23de3",
   "metadata": {},
   "source": [
    "#### Conclusion\n",
    "Nous constatons que moins de 50% de la nourriture produite est directement utilisée pour l'alimentation humaine. Aussi les pertes représentent 4,6% de la disponibilité alimentaire, une part qui pourrait nourrir une quantité non négligeable d'individus.\n",
    "### <a name=\"C14\"><font color='Black'>5) Pays pour lesquels la proportion de personnes en sous-nutrition est la plus forte</font></a>\n",
    "\n",
    "***\n",
    "#### Démarche\n",
    "   - fusion des dataframes sous-nutrition et population_2017 \n",
    "   - calcul de la proportion de sous nutrition par pays (habitants en sous nutrition * 100 / nombre d'habitants)\n",
    "   - classement décroissant des proportions\n",
    "   - remise à zéro de l'index pour plus de clarté"
   ]
  },
  {
   "cell_type": "code",
   "execution_count": null,
   "id": "a8c93c56",
   "metadata": {},
   "outputs": [],
   "source": [
    "sous_nutrition_2017 = pd.merge(sous_nutrition, population_2017, on=['pays', 'annee'], how='inner')\n",
    "\n",
    "sous_nutrition_2017[\"pourcentage_sous_nutrition\"] = (sous_nutrition_2017[\"habitants_sous_nutrition\"]*100 / sous_nutrition_2017[\"nombre_habitants\"])\n",
    "\n",
    "sous_nutrition_2017 = sous_nutrition_2017.sort_values(by=[\"pourcentage_sous_nutrition\"], ascending=False)\n",
    "\n",
    "sous_nutrition_2017 = sous_nutrition_2017.loc[:, ['pays','pourcentage_sous_nutrition']].reset_index(drop=True)\n",
    "\n",
    "sous_nutrition_2017.head(10)\n"
   ]
  },
  {
   "cell_type": "markdown",
   "id": "ad5ccf2d",
   "metadata": {},
   "source": [
    "#### Conclusion\n",
    "Les populations en sous nutrition atteignent des proportions très importantes, quasiment la moitié de la population de Haïti souffre de sous nutrition, suivi de près par la Corée du Nord et Madagascar. Nous retrouvons aussi dans le haut du classement des pays instables comme le Tchad ou le Rwanda, qui sont empétrés dans des conflits intérieurs depuis de nombreuses années.\n",
    "### <a name=\"C15\"><font color='Black'>6) Pays ayant le plus bénéficié d’aide depuis 2013</font></a>\n",
    "\n",
    "***\n",
    "#### Démarche\n",
    "   - création d'un tableau qui regroupe la somme des quantités d'aide par pays\n",
    "   - classement décroissant du total des aides alimentaires\n",
    "   - ajout d'un index pour plus de clarté"
   ]
  },
  {
   "cell_type": "code",
   "execution_count": null,
   "id": "3e8d85be",
   "metadata": {},
   "outputs": [],
   "source": [
    "tableau_aide = aide_alimentaire[['pays','quantite_aide_kg']].groupby('pays').sum()\n",
    "\n",
    "tableau_aide = tableau_aide.sort_values(by='quantite_aide_kg',ascending=False).reset_index()\n",
    "\n",
    "tableau_aide.head(10)\n"
   ]
  },
  {
   "cell_type": "markdown",
   "id": "d3ad6c30",
   "metadata": {},
   "source": [
    "#### Conclusion\n",
    "Nous visualisons un tableau présentant les quantités d'aide distribuées par pays depuis 2013. \n",
    "La Syrie tient la tête de ce classement avec 1,8 Million de Tonnes d'aide alimentaire reçue dans cette période, cela coincide avec le conflit Syrien qui a débuté en 2011 et qui n'a toujours pas trouvé d'issue. \n",
    "De la même manière, nous constatons que les pays qui occupent la tête de ce classement sont pour la plupart empetrés dans des conflits éxterieurs ou intérieurs. \n",
    "Enfin nous notons que les pays qui ont reçu le plus d'aide sont différents des pays qui souffrent le plus de sous nutrition. \n",
    "### <a name=\"C16\"><font color='Black'>7) La disponibilité par habitant dans chaque pays</font></a>\n",
    "\n",
    "***\n",
    "#### Démarche\n",
    "   - création d'un dataframe par l'agrégation des disponibilités alimentaires par personne\n",
    "   - classement des données totales décroissant\n",
    "   - ajout d'un index pour plus de clarté"
   ]
  },
  {
   "cell_type": "code",
   "execution_count": null,
   "id": "99f2cbee",
   "metadata": {},
   "outputs": [],
   "source": [
    "tableau_dispo = dispo_alimentaire[['pays','produit','dispo_alim_kcal_pers_j']].groupby('pays').sum()\n",
    "\n",
    "tableau_dispo = tableau_dispo.sort_values(by='dispo_alim_kcal_pers_j').reset_index()\n",
    "\n",
    "tableau_dispo.head(10)"
   ]
  },
  {
   "cell_type": "code",
   "execution_count": null,
   "id": "4655b30d",
   "metadata": {},
   "outputs": [],
   "source": [
    "\n"
   ]
  },
  {
   "cell_type": "markdown",
   "id": "1bcbff20",
   "metadata": {},
   "source": [
    "#### Conclusion\n",
    "Le classement des pays ayant la plus forte disponibilité alimentaire par habitant est trusté par des pays d'europe, riche et stables. Avec en tête l'autriche ou la belgique.\n",
    "Avec la disponibilité alimentaire par habitant la moins élevée, nous retrouvons le Centrafrique, mais aussi Haïti, la Corée du Nord et le Tchad qui apparaissent aussi dans le classement des pays qui souffrent le plus de sous nutrition.\n",
    "Il y a évidemment un lien direct entre disponibilité alimentaire et sous nutrition.\n",
    "###  <a name=\"C17\"><font color='Black'>8) Utilisation des céréales dans l'alimentation humaine et animale</font></a>\n",
    "\n",
    "***\n",
    "Postulat : La FAO indique une liste d'aliments considérés comme des céréales, nous utiliserons cette liste de produits pour répondre à cette demande : Le blé, le riz, l'orge, le maïs, le seigle, l'avoine, le millet, et le sorgho.\n",
    "\n",
    "#### Démarche\n",
    "   - création d'une liste de céréales pour simplifier la suite\n",
    "   - vérification de la présence d'une céréale dans la colonne produit avec isin\n",
    "   - calcul de la proportion d'utilisation animale des céréales\n",
    "   - calcul de la proportion d'utilisation humaine des céréales"
   ]
  },
  {
   "cell_type": "code",
   "execution_count": null,
   "id": "98810a60",
   "metadata": {},
   "outputs": [],
   "source": [
    "cereales_fao =  ['Blé et produits', 'Riz et produits', 'orge et produits', 'Maïs et produits', 'Seigle et produits','Avoine', 'Millet et produits', 'Sorgho et produits', 'Céréales, Autres']\n",
    "\n",
    "table_cereales = dispo_alimentaire.loc[dispo_alimentaire['produit'].isin(cereales_fao),:]\n",
    "\n",
    "proportion_alimentation_animale = table_cereales['aliments_pour_animaux'].sum() * 100 / table_cereales['dispo_interieure'].sum()\n",
    "\n",
    "proportion_alimentation_humaine = table_cereales['quantite_nourriture'].sum() * 100 / table_cereales['dispo_interieure'].sum()\n",
    "\n",
    "print(\"La proportion d'alimentation animale est\", proportion_alimentation_animale)\n",
    "      \n",
    "print(\"La proportion d'alimentation humaine est\", proportion_alimentation_humaine)\n"
   ]
  },
  {
   "cell_type": "markdown",
   "id": "dcbf47b0",
   "metadata": {},
   "source": [
    "#### Conclusion\n",
    "D'après les données fournies par la FAO, nous estimons que 69% des céréales disponibles dans le monde sont déstinées à l'alimentation animale, tandis que seulement 18% des céréales est directement déstiné à l'alimentation humaine.\n",
    "\n",
    "###  <a name=\"C18\"><font color='Black'>9) Exemple du manioc en Thaïlande</font></a>\n",
    "\n",
    "***\n",
    "\n",
    "#### Démarche\n",
    "   - extraction des informations sur la Thaïlande et sur le manioc avec .loc et &\n",
    "   - calcul de la proportion d'exportation du manioc\n",
    "   - extraction de la proportion de sous nutrituion en Thaïlande via la table sous_nutrition_2017"
   ]
  },
  {
   "cell_type": "code",
   "execution_count": null,
   "id": "dc586c30",
   "metadata": {},
   "outputs": [],
   "source": [
    "dispo_manioc_thailande = dispo_alimentaire.loc[(dispo_alimentaire['produit'] == \"Manioc\") \n",
    "                                               & (dispo_alimentaire['pays'] == \"Thaïlande\"), :]\n",
    "\n",
    "proportion_exportation_manioc = dispo_manioc_thailande['quantite_exportation'].sum() * 100 / dispo_manioc_thailande['production_nourriture'].sum()\n",
    "\n",
    "print('La Thaïlande exporte',proportion_exportation_manioc, '% de sa production de manioc')\n",
    "\n",
    "sous_nutrition_thailande = sous_nutrition_2017.loc[sous_nutrition_2017['pays'] == \"Thaïlande\"]\n",
    "\n",
    "sous_nutrition_thailande\n"
   ]
  },
  {
   "cell_type": "markdown",
   "id": "095c1c9c",
   "metadata": {},
   "source": [
    "#### Conclusion\n",
    "La Thaïlande exporte plus de 83% de sa production de manioc malgré qu'une part non négligeable de sa population souffre de sous nutrition. En effet, la sous nutrition atteint environ 9% de la population.\n",
    "\n",
    "#### Démarche 2\n",
    "   - déclaration de la variable kcal par kg de manioc \n",
    "   - extraction de la population de la Thailande en 2017\n",
    "   - extraction de la quantité d'exportation de manioc en kg\n",
    "   - calcul quantité kcal disponibles en exportation\n",
    "   - calcul du nombre de personne pouvant être potentiellement nourries par le manioc en export\n",
    "   - calcul de ce nombre en proportion de la population\n"
   ]
  },
  {
   "cell_type": "code",
   "execution_count": 3,
   "id": "1cd4ae41",
   "metadata": {},
   "outputs": [
    {
     "ename": "NameError",
     "evalue": "name 'population_2017' is not defined",
     "output_type": "error",
     "traceback": [
      "\u001b[1;31m---------------------------------------------------------------------------\u001b[0m",
      "\u001b[1;31mNameError\u001b[0m                                 Traceback (most recent call last)",
      "\u001b[1;32m~\\AppData\\Local\\Temp\\ipykernel_1956\\3102632353.py\u001b[0m in \u001b[0;36m<module>\u001b[1;34m\u001b[0m\n\u001b[0;32m      1\u001b[0m \u001b[0mmanioc_kcal_par_kg\u001b[0m \u001b[1;33m=\u001b[0m \u001b[1;36m1250\u001b[0m\u001b[1;33m\u001b[0m\u001b[1;33m\u001b[0m\u001b[0m\n\u001b[0;32m      2\u001b[0m \u001b[1;33m\u001b[0m\u001b[0m\n\u001b[1;32m----> 3\u001b[1;33m \u001b[0mpopulation_thailande\u001b[0m \u001b[1;33m=\u001b[0m \u001b[0mpopulation_2017\u001b[0m\u001b[1;33m.\u001b[0m\u001b[0mloc\u001b[0m\u001b[1;33m[\u001b[0m\u001b[0mpopulation_2017\u001b[0m\u001b[1;33m[\u001b[0m\u001b[1;34m'pays'\u001b[0m\u001b[1;33m]\u001b[0m \u001b[1;33m==\u001b[0m \u001b[1;34m\"Thaïlande\"\u001b[0m\u001b[1;33m,\u001b[0m \u001b[1;33m:\u001b[0m\u001b[1;33m]\u001b[0m\u001b[1;33m\u001b[0m\u001b[1;33m\u001b[0m\u001b[0m\n\u001b[0m\u001b[0;32m      4\u001b[0m \u001b[1;33m\u001b[0m\u001b[0m\n\u001b[0;32m      5\u001b[0m \u001b[0mexport_manioc_kg\u001b[0m \u001b[1;33m=\u001b[0m \u001b[0mdispo_manioc_thailande\u001b[0m\u001b[1;33m[\u001b[0m\u001b[1;34m'quantite_exportation'\u001b[0m\u001b[1;33m]\u001b[0m\u001b[1;33m.\u001b[0m\u001b[0msum\u001b[0m\u001b[1;33m(\u001b[0m\u001b[1;33m)\u001b[0m \u001b[1;33m*\u001b[0m \u001b[1;36m1000000\u001b[0m\u001b[1;33m\u001b[0m\u001b[1;33m\u001b[0m\u001b[0m\n",
      "\u001b[1;31mNameError\u001b[0m: name 'population_2017' is not defined"
     ]
    }
   ],
   "source": [
    "manioc_kcal_par_kg = 1250\n",
    "\n",
    "population_thailande = population_2017.loc[population_2017['pays'] == \"Thaïlande\", :]\n",
    "\n",
    "export_manioc_kg = dispo_manioc_thailande['quantite_exportation'].sum() * 1000000\n",
    "\n",
    "dispo_kcal_export_manioc = manioc_kcal_par_kg * export_manioc_kg\n",
    "\n",
    "nbr_pers_nourrie_manioc = dispo_kcal_export_manioc / (besoin_kcal_pers_j*365)\n",
    "\n",
    "proportion_population = nbr_pers_nourrie_manioc * 100 / population_thailande[\"nombre_habitants\"].sum()\n",
    "\n",
    "print(\"Quantité export manioc :\",export_manioc_kg) \n",
    "print(\"Nombre de personnes pouvant être nourries :\", nbr_pers_nourrie_manioc)\n",
    "print(\"Proportion de la population :\",proportion_population )"
   ]
  },
  {
   "cell_type": "markdown",
   "id": "c09b04d7",
   "metadata": {},
   "source": [
    "#### Conclusion\n",
    "Nous nous donnons comme défi de calculer la proportion de population qui pourrait être nourrie avec les étonnantes exportations de manioc par la Thaïlande. Ainsi nous constatons que la Thailande exporte 25 000 Tonnes de manioc qui pourraient nourrir plus de 38 millions de personnes, soit 55% de la population Thaïlandaise."
   ]
  },
  {
   "cell_type": "code",
   "execution_count": null,
   "id": "42b26ca3",
   "metadata": {},
   "outputs": [],
   "source": []
  }
 ],
 "metadata": {
  "kernelspec": {
   "display_name": "Python 3 (ipykernel)",
   "language": "python",
   "name": "python3"
  },
  "language_info": {
   "codemirror_mode": {
    "name": "ipython",
    "version": 3
   },
   "file_extension": ".py",
   "mimetype": "text/x-python",
   "name": "python",
   "nbconvert_exporter": "python",
   "pygments_lexer": "ipython3",
   "version": "3.9.13"
  }
 },
 "nbformat": 4,
 "nbformat_minor": 5
}
